{
 "cells": [
  {
   "cell_type": "code",
   "execution_count": 1,
   "metadata": {},
   "outputs": [],
   "source": [
    "import pickle\n",
    "\n",
    "# add path\n",
    "import sys\n",
    "\n",
    "sys.path.append('..')\n",
    "\n",
    "with open(\"/data/tianyang/llm-reasoners-branches/gsm8k-tot-bs/llm-reasoners/logs/tot_gsm8k/algo_output/1.pkl\", \"rb\") as f:\n",
    "    bs_result = pickle.load(f)"
   ]
  },
  {
   "cell_type": "code",
   "execution_count": 2,
   "metadata": {},
   "outputs": [
    {
     "data": {
      "text/plain": [
       "0.8476994586954102"
      ]
     },
     "execution_count": 2,
     "metadata": {},
     "output_type": "execute_result"
    }
   ],
   "source": [
    "# if you return the whole beam, just pick up random one to visualize\n",
    "terminal_node = bs_result.terminal_node\n",
    "tree = bs_result.tree\n",
    "\n",
    "terminal_node.reward"
   ]
  },
  {
   "cell_type": "code",
   "execution_count": 3,
   "metadata": {},
   "outputs": [
    {
     "name": "stdout",
     "output_type": "stream",
     "text": [
      "Visualizer URL: https://www.llm-reasoners.net/visualizer/641517e4-360e-405f-8cb9-dd9b1fc3d749?accessKey=022d9a34\n"
     ]
    }
   ],
   "source": [
    "from reasoners.visualization import visualize\n",
    "\n",
    "visualize(bs_result)"
   ]
  }
 ],
 "metadata": {
  "kernelspec": {
   "display_name": "reasoners",
   "language": "python",
   "name": "python3"
  },
  "language_info": {
   "codemirror_mode": {
    "name": "ipython",
    "version": 3
   },
   "file_extension": ".py",
   "mimetype": "text/x-python",
   "name": "python",
   "nbconvert_exporter": "python",
   "pygments_lexer": "ipython3",
   "version": "3.10.12"
  }
 },
 "nbformat": 4,
 "nbformat_minor": 2
}
