{
 "cells": [
  {
   "cell_type": "code",
   "execution_count": 8,
   "metadata": {},
   "outputs": [
    {
     "name": "stdout",
     "output_type": "stream",
     "text": [
      "0\n",
      "['Each butterfly is a lepidopteran.', 'Lepidopterans are insects.', 'Every insect is six-legged.', 'Finish.']\n"
     ]
    },
    {
     "ename": "AttributeError",
     "evalue": "'ProntoQAState' object has no attribute 'trace'",
     "output_type": "error",
     "traceback": [
      "\u001b[0;31m---------------------------------------------------------------------------\u001b[0m",
      "\u001b[0;31mAttributeError\u001b[0m                            Traceback (most recent call last)",
      "\u001b[1;32m/data/adithya/llm-reasoners/examples/rap_prontoqa/testing.ipynb Cell 1\u001b[0m line \u001b[0;36m2\n\u001b[1;32m     <a href='vscode-notebook-cell://ssh-remote%2Bds-serv4.ucsd.edu/data/adithya/llm-reasoners/examples/rap_prontoqa/testing.ipynb#W0sdnNjb2RlLXJlbW90ZQ%3D%3D?line=22'>23</a>\u001b[0m \u001b[39mprint\u001b[39m(i)\n\u001b[1;32m     <a href='vscode-notebook-cell://ssh-remote%2Bds-serv4.ucsd.edu/data/adithya/llm-reasoners/examples/rap_prontoqa/testing.ipynb#W0sdnNjb2RlLXJlbW90ZQ%3D%3D?line=23'>24</a>\u001b[0m \u001b[39mprint\u001b[39m(result_variable\u001b[39m.\u001b[39mtrace[\u001b[39m1\u001b[39m])\n\u001b[0;32m---> <a href='vscode-notebook-cell://ssh-remote%2Bds-serv4.ucsd.edu/data/adithya/llm-reasoners/examples/rap_prontoqa/testing.ipynb#W0sdnNjb2RlLXJlbW90ZQ%3D%3D?line=24'>25</a>\u001b[0m \u001b[39mfor\u001b[39;00m attribute \u001b[39min\u001b[39;00m \u001b[39mdir\u001b[39m(result_variable\u001b[39m.\u001b[39;49mterminal_state\u001b[39m.\u001b[39;49mtrace[\u001b[39m1\u001b[39m]):\n\u001b[1;32m     <a href='vscode-notebook-cell://ssh-remote%2Bds-serv4.ucsd.edu/data/adithya/llm-reasoners/examples/rap_prontoqa/testing.ipynb#W0sdnNjb2RlLXJlbW90ZQ%3D%3D?line=25'>26</a>\u001b[0m     \u001b[39mprint\u001b[39m(attribute)\n\u001b[1;32m     <a href='vscode-notebook-cell://ssh-remote%2Bds-serv4.ucsd.edu/data/adithya/llm-reasoners/examples/rap_prontoqa/testing.ipynb#W0sdnNjb2RlLXJlbW90ZQ%3D%3D?line=26'>27</a>\u001b[0m \u001b[39mbreak\u001b[39;00m\n",
      "\u001b[0;31mAttributeError\u001b[0m: 'ProntoQAState' object has no attribute 'trace'"
     ]
    }
   ],
   "source": [
    "from reasoners.visualization.tree_snapshot import NodeData, EdgeData\n",
    "from reasoners.algorithm.mcts import MCTSNode\n",
    "from reasoners.visualization import visualize\n",
    "import pickle\n",
    "from world_model import ProntoQAWorldModel, ProntoQAState, ProntoQAAction\n",
    "from dataset import ProntoQADataset, ProntoQAProblem, ProntoQAExample\n",
    "\n",
    "\n",
    "def prontoqa_node_data_factory(n: MCTSNode) -> NodeData:\n",
    "    return NodeData({\"state\": n.state.body if n.state else None})\n",
    "\n",
    "\n",
    "def blocksworld_edge_data_factory(n: MCTSNode[ProntoQAState, ProntoQAAction,ProntoQAExample]) -> EdgeData:\n",
    "    return EdgeData({\"reward\": n.reward, \"action\": n.action})\n",
    "\n",
    "\n",
    "for i in [0, 30, 60, 90, 120]:\n",
    "    with open(f\"logs/pronto_debug/MCTS_{i}.pkl\", 'rb') as file:\n",
    "        result_variable = pickle.load(file)\n",
    "\n",
    "    \n",
    "\n",
    "    print(i)\n",
    "    print(result_variable.trace[1])\n",
    "    for attribute in dir(result_variable.terminal_state.trace[1]):\n",
    "        print(attribute)\n",
    "    break\n",
    "    # visualize(result_variable, node_data_factory=prontoqa_node_data_factory,\n",
    "    #             edge_data_factory=blocksworld_edge_data_factory)"
   ]
  },
  {
   "cell_type": "code",
   "execution_count": 9,
   "metadata": {},
   "outputs": [
    {
     "name": "stdout",
     "output_type": "stream",
     "text": [
      "Visualizer URL: https://www.llm-reasoners.net/visualizer/8cbbf106-4813-45e2-b9ca-a6bc80641e4b?accessKey=22d8a1f9\n"
     ]
    }
   ],
   "source": [
    "from reasoners.visualization.tree_snapshot import NodeData, EdgeData\n",
    "from reasoners.algorithm.mcts import MCTSNode\n",
    "from reasoners.visualization import visualize\n",
    "import pickle\n",
    "from world_model import ProntoQAWorldModel, ProntoQAState, ProntoQAAction\n",
    "from dataset import ProntoQADataset, ProntoQAProblem, ProntoQAExample\n",
    "\n",
    "\n",
    "def prontoqa_node_data_factory(n: MCTSNode) -> NodeData:\n",
    "    return NodeData({\"state\": n.state.body if n.state else None})\n",
    "\n",
    "\n",
    "def blocksworld_edge_data_factory(n: MCTSNode[ProntoQAState, ProntoQAAction,ProntoQAExample]) -> EdgeData:\n",
    "    return EdgeData({\"Q\": n.Q,\"reward\": n.reward, \"action\": n.action})\n",
    "\n",
    "\n",
    "for i in range(1):\n",
    "    with open(f\"result/MCTS_{i}\", 'rb') as file:\n",
    "        result_variable = pickle.load(file)\n",
    "\n",
    "    visualize(result_variable, node_data_factory=prontoqa_node_data_factory,\n",
    "                edge_data_factory=blocksworld_edge_data_factory)"
   ]
  },
  {
   "cell_type": "code",
   "execution_count": null,
   "metadata": {},
   "outputs": [],
   "source": [
    "MCTSResult(terminal_state=ProntoQAState(last_state=ProntoQAState(last_state=ProntoQAState(last_state=ProntoQAState(last_state=ProntoQAState(last_state=None, last_action=None, body='Alex is a butterfly.'), last_action='Each butterfly is a lepidopteran.', body='Alex is a lepidopteran.'), last_action='Lepidopterans are insects.', body='Alex is an insect.'), last_action='Every insect is six-legged.', body='Alex is six-legged.'), last_action='Finish.', body='True'), cum_reward=-0.6894428, trace=([ProntoQAState(last_state=None, last_action=None, body='Alex is a butterfly.'), ProntoQAState(last_state=ProntoQAState(last_state=None, last_action=None, body='Alex is a butterfly.'), last_action='Each butterfly is a lepidopteran.', body='Alex is a lepidopteran.'), ProntoQAState(last_state=ProntoQAState(last_state=ProntoQAState(last_state=None, last_action=None, body='Alex is a butterfly.'), last_action='Each butterfly is a lepidopteran.', body='Alex is a lepidopteran.'), last_action='Lepidopterans are insects.', body='Alex is an insect.'), ProntoQAState(last_state=ProntoQAState(last_state=ProntoQAState(last_state=ProntoQAState(last_state=None, last_action=None, body='Alex is a butterfly.'), last_action='Each butterfly is a lepidopteran.', body='Alex is a lepidopteran.'), last_action='Lepidopterans are insects.', body='Alex is an insect.'), last_action='Every insect is six-legged.', body='Alex is six-legged.'), ProntoQAState(last_state=ProntoQAState(last_state=ProntoQAState(last_state=ProntoQAState(last_state=ProntoQAState(last_state=None, last_action=None, body='Alex is a butterfly.'), last_action='Each butterfly is a lepidopteran.', body='Alex is a lepidopteran.'), last_action='Lepidopterans are insects.', body='Alex is an insect.'), last_action='Every insect is six-legged.', body='Alex is six-legged.'), last_action='Finish.', body='True')], ['Each butterfly is a lepidopteran.', 'Lepidopterans are insects.', 'Every insect is six-legged.', 'Finish.']), trace_of_nodes=[<reasoners.algorithm.mcts.MCTSNode object at 0x7f2186011f00>, <reasoners.algorithm.mcts.MCTSNode object at 0x7f218601ee90>, <reasoners.algorithm.mcts.MCTSNode object at 0x7f218601d960>, <reasoners.algorithm.mcts.MCTSNode object at 0x7f218601d180>, <reasoners.algorithm.mcts.MCTSNode object at 0x7f218601fd30>], tree_state=<reasoners.algorithm.mcts.MCTSNode object at 0x7f2186011f00>, trace_in_each_iter=[[<reasoners.algorithm.mcts.MCTSNode object at 0x7f2185fdf100>, <reasoners.algorithm.mcts.MCTSNode object at 0x7f2185fdfd60>, <reasoners.algorithm.mcts.MCTSNode object at 0x7f2185fdfc70>, <reasoners.algorithm.mcts.MCTSNode object at 0x7f2185fdf850>, <reasoners.algorithm.mcts.MCTSNode object at 0x7f2185fdf610>, <reasoners.algorithm.mcts.MCTSNode object at 0x7f2185fdf190>], [<reasoners.algorithm.mcts.MCTSNode object at 0x7f2185fde320>, <reasoners.algorithm.mcts.MCTSNode object at 0x7f2185fdc6a0>, <reasoners.algorithm.mcts.MCTSNode object at 0x7f2185fdd180>, <reasoners.algorithm.mcts.MCTSNode object at 0x7f2185fddf60>, <reasoners.algorithm.mcts.MCTSNode object at 0x7f2185fdedd0>, <reasoners.algorithm.mcts.MCTSNode object at 0x7f2185fddae0>], [<reasoners.algorithm.mcts.MCTSNode object at 0x7f2185fdd960>, <reasoners.algorithm.mcts.MCTSNode object at 0x7f2185fdcb80>, <reasoners.algorithm.mcts.MCTSNode object at 0x7f2185fde7a0>, <reasoners.algorithm.mcts.MCTSNode object at 0x7f2185fdda80>, <reasoners.algorithm.mcts.MCTSNode object at 0x7f2185fdc580>, <reasoners.algorithm.mcts.MCTSNode object at 0x7f2185fde5c0>], [<reasoners.algorithm.mcts.MCTSNode object at 0x7f2185fddcc0>, <reasoners.algorithm.mcts.MCTSNode object at 0x7f2185fdc040>, <reasoners.algorithm.mcts.MCTSNode object at 0x7f2185fcc7f0>, <reasoners.algorithm.mcts.MCTSNode object at 0x7f2185fcd4b0>, <reasoners.algorithm.mcts.MCTSNode object at 0x7f2185fcdc30>], [<reasoners.algorithm.mcts.MCTSNode object at 0x7f2185fcd030>, <reasoners.algorithm.mcts.MCTSNode object at 0x7f2185fcc310>, <reasoners.algorithm.mcts.MCTSNode object at 0x7f2185fcc250>, <reasoners.algorithm.mcts.MCTSNode object at 0x7f2185fced70>, <reasoners.algorithm.mcts.MCTSNode object at 0x7f2185fcfca0>], [<reasoners.algorithm.mcts.MCTSNode object at 0x7f2185fcc850>, <reasoners.algorithm.mcts.MCTSNode object at 0x7f2185fcc370>, <reasoners.algorithm.mcts.MCTSNode object at 0x7f20da916ce0>, <reasoners.algorithm.mcts.MCTSNode object at 0x7f20da914310>, <reasoners.algorithm.mcts.MCTSNode object at 0x7f20da9153c0>], [<reasoners.algorithm.mcts.MCTSNode object at 0x7f20da917340>, <reasoners.algorithm.mcts.MCTSNode object at 0x7f20da914370>, <reasoners.algorithm.mcts.MCTSNode object at 0x7f20da902290>, <reasoners.algorithm.mcts.MCTSNode object at 0x7f20da9033a0>, <reasoners.algorithm.mcts.MCTSNode object at 0x7f20da903ca0>, <reasoners.algorithm.mcts.MCTSNode object at 0x7f20da901600>], [<reasoners.algorithm.mcts.MCTSNode object at 0x7f20da903b80>, <reasoners.algorithm.mcts.MCTSNode object at 0x7f20da900790>, <reasoners.algorithm.mcts.MCTSNode object at 0x7f20da900a60>, <reasoners.algorithm.mcts.MCTSNode object at 0x7f20da901180>, <reasoners.algorithm.mcts.MCTSNode object at 0x7f20da901d50>], [<reasoners.algorithm.mcts.MCTSNode object at 0x7f2235b43760>, <reasoners.algorithm.mcts.MCTSNode object at 0x7f20da8d97b0>, <reasoners.algorithm.mcts.MCTSNode object at 0x7f20da8dbc40>, <reasoners.algorithm.mcts.MCTSNode object at 0x7f20da9536d0>, <reasoners.algorithm.mcts.MCTSNode object at 0x7f20da952aa0>, <reasoners.algorithm.mcts.MCTSNode object at 0x7f20da950f40>], [<reasoners.algorithm.mcts.MCTSNode object at 0x7f20da952950>, <reasoners.algorithm.mcts.MCTSNode object at 0x7f20da950a60>, <reasoners.algorithm.mcts.MCTSNode object at 0x7f20da9501c0>, <reasoners.algorithm.mcts.MCTSNode object at 0x7f20da952a10>, <reasoners.algorithm.mcts.MCTSNode object at 0x7f20da952410>], [<reasoners.algorithm.mcts.MCTSNode object at 0x7f20da951a80>, <reasoners.algorithm.mcts.MCTSNode object at 0x7f20da951660>, <reasoners.algorithm.mcts.MCTSNode object at 0x7f20da951a20>, <reasoners.algorithm.mcts.MCTSNode object at 0x7f20da950160>, <reasoners.algorithm.mcts.MCTSNode object at 0x7f20da9521a0>], [<reasoners.algorithm.mcts.MCTSNode object at 0x7f20da9430d0>, <reasoners.algorithm.mcts.MCTSNode object at 0x7f20da942c50>, <reasoners.algorithm.mcts.MCTSNode object at 0x7f20da942440>, <reasoners.algorithm.mcts.MCTSNode object at 0x7f20da942d70>, <reasoners.algorithm.mcts.MCTSNode object at 0x7f20da940580>], [<reasoners.algorithm.mcts.MCTSNode object at 0x7f20da9410f0>, <reasoners.algorithm.mcts.MCTSNode object at 0x7f20da9437c0>, <reasoners.algorithm.mcts.MCTSNode object at 0x7f20da942b00>, <reasoners.algorithm.mcts.MCTSNode object at 0x7f20da9426e0>, <reasoners.algorithm.mcts.MCTSNode object at 0x7f20da9426b0>], [<reasoners.algorithm.mcts.MCTSNode object at 0x7f20da92fa90>, <reasoners.algorithm.mcts.MCTSNode object at 0x7f20da92e710>, <reasoners.algorithm.mcts.MCTSNode object at 0x7f20da92e4a0>, <reasoners.algorithm.mcts.MCTSNode object at 0x7f20da92ed70>, <reasoners.algorithm.mcts.MCTSNode object at 0x7f20da92d600>], [<reasoners.algorithm.mcts.MCTSNode object at 0x7f20da92d360>, <reasoners.algorithm.mcts.MCTSNode object at 0x7f2186050100>, <reasoners.algorithm.mcts.MCTSNode object at 0x7f2186050580>, <reasoners.algorithm.mcts.MCTSNode object at 0x7f2186050bb0>, <reasoners.algorithm.mcts.MCTSNode object at 0x7f2186050fa0>]], tree_state_after_each_iter=[<reasoners.algorithm.mcts.MCTSNode object at 0x7f2185fdf100>, <reasoners.algorithm.mcts.MCTSNode object at 0x7f2185fde320>, <reasoners.algorithm.mcts.MCTSNode object at 0x7f2185fdd960>, <reasoners.algorithm.mcts.MCTSNode object at 0x7f2185fddcc0>, <reasoners.algorithm.mcts.MCTSNode object at 0x7f2185fcd030>, <reasoners.algorithm.mcts.MCTSNode object at 0x7f2185fcc850>, <reasoners.algorithm.mcts.MCTSNode object at 0x7f20da917340>, <reasoners.algorithm.mcts.MCTSNode object at 0x7f20da903b80>, <reasoners.algorithm.mcts.MCTSNode object at 0x7f2235b43760>, <reasoners.algorithm.mcts.MCTSNode object at 0x7f20da952950>, <reasoners.algorithm.mcts.MCTSNode object at 0x7f20da951a80>, <reasoners.algorithm.mcts.MCTSNode object at 0x7f20da9430d0>, <reasoners.algorithm.mcts.MCTSNode object at 0x7f20da9410f0>, <reasoners.algorithm.mcts.MCTSNode object at 0x7f20da92fa90>, <reasoners.algorithm.mcts.MCTSNode object at 0x7f20da92d360>], aggregated_result=None)\n"
   ]
  }
 ],
 "metadata": {
  "kernelspec": {
   "display_name": "reasoners",
   "language": "python",
   "name": "python3"
  },
  "language_info": {
   "codemirror_mode": {
    "name": "ipython",
    "version": 3
   },
   "file_extension": ".py",
   "mimetype": "text/x-python",
   "name": "python",
   "nbconvert_exporter": "python",
   "pygments_lexer": "ipython3",
   "version": "3.10.13"
  }
 },
 "nbformat": 4,
 "nbformat_minor": 2
}
